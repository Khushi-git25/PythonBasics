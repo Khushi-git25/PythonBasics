{
  "nbformat": 4,
  "nbformat_minor": 0,
  "metadata": {
    "colab": {
      "provenance": []
    },
    "kernelspec": {
      "name": "python3",
      "display_name": "Python 3"
    },
    "language_info": {
      "name": "python"
    }
  },
  "cells": [
    {
      "cell_type": "markdown",
      "source": [
        "#  PYTHON BASIC QUESTIONS\n",
        "\n",
        "\n",
        "1. What is Python, and why is it popular?\n",
        "  \n",
        "   :> Python is an interpreted, high-level programming language that is renowned for being easy to learn and understand.\n",
        "   It includes a large standard library and supports a variety of programming methods.\n",
        "\n",
        "   Python is popular because it is extensively utilized in data research, automation, AI, web development, and other fields.\n",
        "   It is perfect for both novices and experts owing to its simple syntax and ease of learning.\n",
        "   Its widespread appeal is a result of strong community support and strong libraries.\n",
        "\n",
        "2. What is an interpreter in Python?\n",
        "    \n",
        "   :> Python code is read and run line by line by an interpreter.\n",
        "   At runtime, it converts Python source code into instructions that a computer can comprehend.\n",
        "   During development, this makes debugging simpler and provides instant feedback.\n",
        "   Python is flexible and platform-independent due to its interpreter.\n",
        "\n",
        "3. What are pre-defined keywords in Python?\n",
        "\n",
        "   :> In Python, reserved words with specific meanings are called pre-defined keywords.\n",
        "   They cannot be used as variable names since they are a component of the Python grammar.\n",
        "   \n",
        "   `if`, `else`, `while`, `for`, `def`, and `class` are a few examples.\n",
        "\n",
        "   These terms aid in defining a Python program's organization and flow.\n",
        "   Python features a collection of keywords that are exclusive to the language.\n",
        "\n",
        "4. Can keywords be used as variable names?\n",
        "\n",
        "   :> No, Python does not allow the usage of keywords as variable names.\n",
        "   They are only used for particular linguistic purposes and syntax.\n",
        "\n",
        "5. What is mutability in Python?\n",
        "\n",
        "   :> In Python, mutability is the capacity of an object to alter its value after it has been created.\n",
        "   Lists, dictionaries, and sets are examples of\n",
        "   \n",
        "   **mutable objects** that may be changed in-place.\n",
        "   Once generated,\n",
        "   \n",
        "   **immutable objects** (such as strings, tuples, and integers) cannot be altered.\n",
        "\n",
        "   Comprehending mutability facilitates effective memory and data behavior management.\n",
        "\n",
        "6. Why are lists mutable, but tuples are immutable?\n",
        "\n",
        "   :> Since lists are intended to accommodate modifications such as adding, deleting, or altering entries, they are changeable.\n",
        "   Tuples may be used as items in sets or as keys in dictionaries since they are immutable, which guarantees data integrity.\n",
        "   Safer, fixed data structures and speed optimization are supported by this approach.\n",
        "\n",
        "   Whether the data must alter or stay the same will determine the decision.\n",
        "\n",
        "7. What is the difference between “==” and “is” operators in Python?\n",
        "\n",
        "   :> In Python, `==` and `is` are used for different types of comparisons:\n",
        "\n",
        "   * `==` checks **value equality** — whether two variables have the same value.\n",
        "   * `is` checks **identity** — whether two variables point to the **same object in memory**.\n",
        "\n",
        "   ### Example:\n",
        "\n",
        "   ```\n",
        "   a = [1, 2, 3]\n",
        "   b = [1, 2, 3]\n",
        "\n",
        "   a == b  # True (values are equal)\n",
        "   a is b  # False (different objects in memory)\n",
        "   ```\n",
        "\n",
        "   Use `==` for comparing content, and `is` for checking object identity.\n",
        "\n",
        "8. What are logical operators in Python?\n",
        "\n",
        "   :> Logical operators in Python are used to combine conditional statements. There are three main logical operators:\n",
        "\n",
        "   and - Returns True if both conditions are true.\n",
        "\n",
        "   or - Returns True if at least one condition is true.\n",
        "\n",
        "   not - Reverses the boolean value of the condition.\n",
        "\n",
        "   Example:\n",
        "   ```\n",
        "   x = 5\n",
        "   print(x > 2 and x < 10)     # True\n",
        "   print(x > 10 or x == 5)     # True\n",
        "   print(not(x == 5))          # False\n",
        "   ```\n",
        "9. What is type casting in Python?\n",
        "\n",
        "   :> The process of changing one data type into another is known as **type casting** in Python.\n",
        "   Built-in functions like `int()`, `float()`, `str()`, and `bool()` can be used for this.\n",
        "   When you need to conduct operations between distinct data types, type casting comes in handy.\n",
        "\n",
        "   There are two kinds: **explicit** (completed by the programmer manually) and **implicit** (automated by Python).\n",
        "   \n",
        "10. What is the difference between implicit and explicit type casting?\n",
        "\n",
        "    :> **Implicit casting** is done automatically by the compiler when converting a smaller to a larger data type (e.g., `int` to `float`).\n",
        "    \n",
        "    **Explicit casting** is manually done by the programmer using casting syntax to convert between incompatible types.\n",
        "    \n",
        "    **Example (Implicit):** `float b = 5;`\n",
        "    **Example (Explicit):** `int a = (int)3.14;`\n",
        "\n",
        "11. What is the purpose of conditional statements in Python?\n",
        "\n",
        "    :> Conditional statements in Python are used to perform different actions based on different conditions.\n",
        "    They help control the flow of the program by executing code only when a certain condition is true.\n",
        "    Common statements include `if`, `elif`, and `else`.\n",
        "   \n",
        "    **Example:**\n",
        "\n",
        "    ```python\n",
        "    if x > 0:\n",
        "    print(\"Positive number\")\n",
        "    ```\n",
        "\n",
        "12. How does the elif statement work?\n",
        "\n",
        "    :> The `elif` statement in Python stands for **\"else if\"** and is used to check multiple conditions.\n",
        "    It runs its block of code **only if** the preceding `if` (or other `elif`) condition is **False**, and its own condition is **True**.\n",
        "    You can use multiple `elif` statements to handle different cases.\n",
        "    **Example:**\n",
        "\n",
        "    ```python\n",
        "    x = 10\n",
        "    if x < 0:\n",
        "    print(\"Negative\")\n",
        "    elif x == 0:\n",
        "    print(\"Zero\")\n",
        "    else:\n",
        "    print(\"Positive\")\n",
        "    ```\n",
        "\n",
        "13. What is the difference between for and while loops?\n",
        "\n",
        "    :> The difference between `for` and `while` loops lies in **how and when they repeat code**:\n",
        "\n",
        "    * A **`for` loop** is used when you **know in advance** how many times you want to loop (e.g., iterating over a range or list).\n",
        "    * A **`while` loop** is used when the **number of iterations is unknown** and depends on a condition being true.\n",
        "\n",
        "    **Example (for loop):**\n",
        "\n",
        "    ```python\n",
        "    for i in range(5):\n",
        "    print(i)\n",
        "    ```\n",
        "\n",
        "    **Example (while loop):**\n",
        "\n",
        "    ```python\n",
        "    i = 0\n",
        "    while i < 5:\n",
        "    print(i)\n",
        "    i += 1\n",
        "    ```\n",
        "\n",
        "14. Describe a scenario where a while loop is more suitable than a for loop.\n",
        "\n",
        "    :> A **`while` loop** is more suitable when the **number of iterations is unknown** and depends on a **condition that changes during execution**.\n",
        "\n",
        "    ### Scenario:\n",
        "\n",
        "    Reading user input until they type \"exit\":\n",
        "\n",
        "    ```python\n",
        "    user_input = \"\"\n",
        "    while user_input != \"exit\":\n",
        "    user_input = input(\"Type 'exit' to quit: \")\n",
        "    ```\n",
        "\n",
        "    Here, we **don’t know how many times** the user will enter input, so a `while` loop is ideal.\n",
        "\n",
        "\n",
        "\n",
        "\n",
        "#  PRACTICAL QUSTIONS\n",
        "\n",
        "\n",
        "1. Write a Python program to print \"Hello, World!\""
      ],
      "metadata": {
        "id": "VTtEZ0KwclJe"
      }
    },
    {
      "cell_type": "code",
      "source": [
        "print(\"Hello, World!\")"
      ],
      "metadata": {
        "colab": {
          "base_uri": "https://localhost:8080/"
        },
        "id": "eTlHUFT6k7Z5",
        "outputId": "7a5ba7d7-e165-4247-c992-67f9ac28a4ff"
      },
      "execution_count": null,
      "outputs": [
        {
          "output_type": "stream",
          "name": "stdout",
          "text": [
            "Hello, World!\n"
          ]
        }
      ]
    },
    {
      "cell_type": "markdown",
      "source": [
        "2. Write a Python program that displays your name and age.\n"
      ],
      "metadata": {
        "id": "i791PDlelO2_"
      }
    },
    {
      "cell_type": "code",
      "source": [
        "name = \"Khushi\"\n",
        "age = 22\n",
        "\n",
        "print(\"Name:\", name)\n",
        "print(\"Age:\", age)"
      ],
      "metadata": {
        "colab": {
          "base_uri": "https://localhost:8080/"
        },
        "id": "k_MO1_belXWC",
        "outputId": "eb6623c6-b5a6-48fd-c6fb-ee7886488a0c"
      },
      "execution_count": null,
      "outputs": [
        {
          "output_type": "stream",
          "name": "stdout",
          "text": [
            "Name: Khushi\n",
            "Age: 22\n"
          ]
        }
      ]
    },
    {
      "cell_type": "markdown",
      "source": [
        "3. Write code to print all the pre-defined keywords in Python using the keyword library.\n"
      ],
      "metadata": {
        "id": "yh3tuuVdl-cw"
      }
    },
    {
      "cell_type": "code",
      "source": [
        "import keyword\n",
        "\n",
        "print(\"Python Keywords:\")\n",
        "print(keyword.kwlist)"
      ],
      "metadata": {
        "colab": {
          "base_uri": "https://localhost:8080/"
        },
        "id": "NzF-gctdmfuN",
        "outputId": "e229defb-93bb-4692-d4d6-6a613c058c2a"
      },
      "execution_count": null,
      "outputs": [
        {
          "output_type": "stream",
          "name": "stdout",
          "text": [
            "Python Keywords:\n",
            "['False', 'None', 'True', 'and', 'as', 'assert', 'async', 'await', 'break', 'class', 'continue', 'def', 'del', 'elif', 'else', 'except', 'finally', 'for', 'from', 'global', 'if', 'import', 'in', 'is', 'lambda', 'nonlocal', 'not', 'or', 'pass', 'raise', 'return', 'try', 'while', 'with', 'yield']\n"
          ]
        }
      ]
    },
    {
      "cell_type": "markdown",
      "source": [
        "4. Write a program that checks if a given word is a Python keyword.\n"
      ],
      "metadata": {
        "id": "w5EA01a3m7p5"
      }
    },
    {
      "cell_type": "code",
      "source": [
        "import keyword\n",
        "\n",
        "word = input(\"Enter a word: \")\n",
        "\n",
        "if keyword.iskeyword(word):\n",
        "    print(f'\"{word}\" is a Python keyword.')\n",
        "else:\n",
        "    print(f'\"{word}\" is NOT a Python keyword.')"
      ],
      "metadata": {
        "colab": {
          "base_uri": "https://localhost:8080/"
        },
        "id": "hE3faUH-nC2F",
        "outputId": "8551bb81-b95b-4f2e-a0ab-5459410e215d"
      },
      "execution_count": null,
      "outputs": [
        {
          "output_type": "stream",
          "name": "stdout",
          "text": [
            "Enter a word: Khushi\n",
            "\"Khushi\" is NOT a Python keyword.\n"
          ]
        }
      ]
    },
    {
      "cell_type": "markdown",
      "source": [
        "5. Create a list and tuple in Python, and demonstrate how attempting to change an element works differently for each.\n"
      ],
      "metadata": {
        "id": "VI3Apgk1nW2C"
      }
    },
    {
      "cell_type": "code",
      "source": [
        "my_list = [1, 2, 3]\n",
        "print(\"Original list:\", my_list)"
      ],
      "metadata": {
        "colab": {
          "base_uri": "https://localhost:8080/"
        },
        "id": "aTgC44err8Hn",
        "outputId": "a79f166d-0cf1-4a4c-acdb-ff8f12f2fad9"
      },
      "execution_count": null,
      "outputs": [
        {
          "output_type": "stream",
          "name": "stdout",
          "text": [
            "Original list: [1, 2, 3]\n"
          ]
        }
      ]
    },
    {
      "cell_type": "code",
      "source": [
        "my_list[1] = 20\n",
        "print(\"List after modification:\", my_list)"
      ],
      "metadata": {
        "colab": {
          "base_uri": "https://localhost:8080/"
        },
        "id": "Mhb3rwovsATn",
        "outputId": "79963b80-2d5f-44ce-be92-1b2edc2cb53d"
      },
      "execution_count": null,
      "outputs": [
        {
          "output_type": "stream",
          "name": "stdout",
          "text": [
            "List after modification: [1, 20, 3]\n"
          ]
        }
      ]
    },
    {
      "cell_type": "code",
      "source": [
        "my_tuple = (1, 2, 3)\n",
        "print(\"Original tuple:\", my_tuple)"
      ],
      "metadata": {
        "colab": {
          "base_uri": "https://localhost:8080/"
        },
        "id": "wzAy6-xxsGJD",
        "outputId": "ead8f637-2612-436f-b654-94b760237836"
      },
      "execution_count": null,
      "outputs": [
        {
          "output_type": "stream",
          "name": "stdout",
          "text": [
            "Original tuple: (1, 2, 3)\n"
          ]
        }
      ]
    },
    {
      "cell_type": "code",
      "source": [
        "try:\n",
        "    my_tuple[1] = 20\n",
        "except TypeError as error:\n",
        "    print(\"Error when modifying tuple:\", error)"
      ],
      "metadata": {
        "colab": {
          "base_uri": "https://localhost:8080/"
        },
        "id": "PC_3geu-sMRH",
        "outputId": "35f3754a-9c25-4ef6-e933-3849a6444788"
      },
      "execution_count": null,
      "outputs": [
        {
          "output_type": "stream",
          "name": "stdout",
          "text": [
            "Error when modifying tuple: 'tuple' object does not support item assignment\n"
          ]
        }
      ]
    },
    {
      "cell_type": "markdown",
      "source": [
        "6. Write a function to demonstrate the behavior of mutable and immutable arguments.\n"
      ],
      "metadata": {
        "id": "ttymC66YsXox"
      }
    },
    {
      "cell_type": "code",
      "source": [
        "x = 10\n",
        "my_list = [1, 2, 3]\n",
        "\n",
        "print(\"BEFORE function call:\")\n",
        "print(\"x:\", x)\n",
        "print(\"my_list:\", my_list)"
      ],
      "metadata": {
        "colab": {
          "base_uri": "https://localhost:8080/"
        },
        "id": "f7S8fzxBuPxE",
        "outputId": "27779b9e-8ad3-4dbc-f61b-ba39faf35026"
      },
      "execution_count": null,
      "outputs": [
        {
          "output_type": "stream",
          "name": "stdout",
          "text": [
            "BEFORE function call:\n",
            "x: 10\n",
            "my_list: [1, 2, 3]\n"
          ]
        }
      ]
    },
    {
      "cell_type": "code",
      "source": [
        "demonstrate_mutable_immutable(x, my_list)\n",
        "\n",
        "print(\"\\nAFTER function call:\")\n",
        "print(\"x:\", x)\n",
        "print(\"my_list:\", my_list)"
      ],
      "metadata": {
        "colab": {
          "base_uri": "https://localhost:8080/"
        },
        "id": "s2Lz5GhCuU_9",
        "outputId": "74662f05-f69d-4c3a-a7d5-c75b013378c7"
      },
      "execution_count": null,
      "outputs": [
        {
          "output_type": "stream",
          "name": "stdout",
          "text": [
            "Inside function BEFORE modification:\n",
            "immutable_arg: 10\n",
            "mutable_arg: [1, 2, 3]\n",
            "\n",
            "Inside function AFTER modification:\n",
            "immutable_arg: 11\n",
            "mutable_arg: [1, 2, 3, 99]\n",
            "\n",
            "AFTER function call:\n",
            "x: 10\n",
            "my_list: [1, 2, 3, 99]\n"
          ]
        }
      ]
    },
    {
      "cell_type": "markdown",
      "source": [
        "7. Write a program that performs basic arithmetic operations on two user-input numbers.\n"
      ],
      "metadata": {
        "id": "b79yfkltuwB6"
      }
    },
    {
      "cell_type": "code",
      "source": [
        "num1 = float(input(\"Enter the first number: \"))\n",
        "num2 = float(input(\"Enter the second number: \"))\n",
        "addition = num1 + num2\n",
        "subtraction = num1 - num2\n",
        "multiplication = num1 * num2\n",
        "if num2 != 0:\n",
        "    division = num1 / num2\n",
        "else:\n",
        "    division = \"Undefined (cannot divide by zero)\"\n",
        "print(\"\\n--- Arithmetic Operations ---\")\n",
        "print(\"Addition:\", addition)\n",
        "print(\"Subtraction:\", subtraction)\n",
        "print(\"Multiplication:\", multiplication)\n",
        "print(\"Division:\", division)"
      ],
      "metadata": {
        "colab": {
          "base_uri": "https://localhost:8080/"
        },
        "id": "RKyT0hiNvnY4",
        "outputId": "3fc881ef-ea1f-4b65-e661-20a18c30a55d"
      },
      "execution_count": null,
      "outputs": [
        {
          "output_type": "stream",
          "name": "stdout",
          "text": [
            "Enter the first number: 10\n",
            "Enter the second number: 5\n",
            "\n",
            "--- Arithmetic Operations ---\n",
            "Addition: 15.0\n",
            "Subtraction: 5.0\n",
            "Multiplication: 50.0\n",
            "Division: 2.0\n"
          ]
        }
      ]
    },
    {
      "cell_type": "markdown",
      "source": [
        "8. Write a program to demonstrate the use of logical operators.\n"
      ],
      "metadata": {
        "id": "yuH_G-fcvuDf"
      }
    },
    {
      "cell_type": "code",
      "source": [
        "a = int(input(\"Enter first number (a): \"))\n",
        "b = int(input(\"Enter second number (b): \"))\n",
        "print(\"\\nLogical AND:\")\n",
        "print(f\"a > 0 and b > 0: {a > 0 and b > 0}\")\n",
        "print(\"\\nLogical OR:\")\n",
        "print(f\"a > 0 or b > 0: {a > 0 or b > 0}\")\n",
        "print(\"\\nLogical NOT:\")\n",
        "print(f\"not(a > 0): {not(a > 0)}\")\n",
        "print(f\"not(b > 0): {not(b > 0)}\")"
      ],
      "metadata": {
        "colab": {
          "base_uri": "https://localhost:8080/"
        },
        "id": "S2j98eR_S8F3",
        "outputId": "a2371a1c-7eb4-47cb-ca20-2f50661e81fa"
      },
      "execution_count": 1,
      "outputs": [
        {
          "output_type": "stream",
          "name": "stdout",
          "text": [
            "Enter first number (a): 55\n",
            "Enter second number (b): 26\n",
            "\n",
            "Logical AND:\n",
            "a > 0 and b > 0: True\n",
            "\n",
            "Logical OR:\n",
            "a > 0 or b > 0: True\n",
            "\n",
            "Logical NOT:\n",
            "not(a > 0): False\n",
            "not(b > 0): False\n"
          ]
        }
      ]
    },
    {
      "cell_type": "markdown",
      "source": [
        "9. Write a Python program to convert user input from string to integer, float, and boolean types.\n"
      ],
      "metadata": {
        "id": "CG-kxZAsTSR1"
      }
    },
    {
      "cell_type": "code",
      "source": [
        "user_input = input(\"Enter a value: \")\n",
        "try:\n",
        "    int_value = int(user_input)\n",
        "    print(f\"Integer conversion: {int_value}\")\n",
        "except ValueError:\n",
        "    print(\"Integer conversion: Failed (input is not a valid integer)\")\n",
        "try:\n",
        "    float_value = float(user_input)\n",
        "    print(f\"Float conversion: {float_value}\")\n",
        "except ValueError:\n",
        "    print(\"Float conversion: Failed (input is not a valid float)\")\n",
        "bool_value = bool(user_input)\n",
        "print(f\"Boolean conversion: {bool_value}\")\n"
      ],
      "metadata": {
        "colab": {
          "base_uri": "https://localhost:8080/"
        },
        "id": "pndCS9DtT7ll",
        "outputId": "b3b47220-fcce-4560-b24f-886f03e78d82"
      },
      "execution_count": 3,
      "outputs": [
        {
          "output_type": "stream",
          "name": "stdout",
          "text": [
            "Enter a value: 100\n",
            "Integer conversion: 100\n",
            "Float conversion: 100.0\n",
            "Boolean conversion: True\n"
          ]
        }
      ]
    },
    {
      "cell_type": "markdown",
      "source": [
        "10. Write code to demonstrate type casting with list elements.\n"
      ],
      "metadata": {
        "id": "XwFO8d_mUKeq"
      }
    },
    {
      "cell_type": "code",
      "source": [
        "string_list = [\"10\", \"20\", \"30\", \"0\", \"\"]\n",
        "print(\"Original list (strings):\", string_list)\n",
        "int_list = []\n",
        "for item in string_list:\n",
        "    try:\n",
        "        int_list.append(int(item))\n",
        "    except ValueError:\n",
        "        int_list.append(None)\n",
        "print(\"Converted to integers:\", int_list)\n",
        "float_list = []\n",
        "for item in string_list:\n",
        "    try:\n",
        "        float_list.append(float(item))\n",
        "    except ValueError:\n",
        "        float_list.append(None)\n",
        "print(\"Converted to floats:\", float_list)\n",
        "bool_list = [bool(item) for item in string_list]\n",
        "print(\"Converted to booleans:\", bool_list)"
      ],
      "metadata": {
        "colab": {
          "base_uri": "https://localhost:8080/"
        },
        "id": "6OS6HitXUPE9",
        "outputId": "bf71e370-7b96-45b9-8073-040c9fec44e1"
      },
      "execution_count": 4,
      "outputs": [
        {
          "output_type": "stream",
          "name": "stdout",
          "text": [
            "Original list (strings): ['10', '20', '30', '0', '']\n",
            "Converted to integers: [10, 20, 30, 0, None]\n",
            "Converted to floats: [10.0, 20.0, 30.0, 0.0, None]\n",
            "Converted to booleans: [True, True, True, True, False]\n"
          ]
        }
      ]
    },
    {
      "cell_type": "markdown",
      "source": [
        "11. Write a program that checks if a number is positive, negative, or zero.\n"
      ],
      "metadata": {
        "id": "3i_YJ4xyUsiI"
      }
    },
    {
      "cell_type": "code",
      "source": [
        "num = float(input(\"Enter a number: \"))\n",
        "if num > 0:\n",
        "    print(\"The number is positive.\")\n",
        "elif num < 0:\n",
        "    print(\"The number is negative.\")\n",
        "else:\n",
        "    print(\"The number is zero.\")"
      ],
      "metadata": {
        "colab": {
          "base_uri": "https://localhost:8080/"
        },
        "id": "8YIReB67UyPc",
        "outputId": "afda252f-3a7e-4c14-a15a-b8c81e46f541"
      },
      "execution_count": 5,
      "outputs": [
        {
          "output_type": "stream",
          "name": "stdout",
          "text": [
            "Enter a number: 3110\n",
            "The number is positive.\n"
          ]
        }
      ]
    },
    {
      "cell_type": "markdown",
      "source": [
        "12. Write a for loop to print numbers from 1 to 10.\n"
      ],
      "metadata": {
        "id": "GAVcuUDeVBGC"
      }
    },
    {
      "cell_type": "code",
      "source": [
        "for i in range(1, 11):\n",
        "    print(i)"
      ],
      "metadata": {
        "colab": {
          "base_uri": "https://localhost:8080/"
        },
        "id": "KmZHbeP-VM-K",
        "outputId": "38c9aea6-432b-4690-ceb0-e0b12b56727f"
      },
      "execution_count": 6,
      "outputs": [
        {
          "output_type": "stream",
          "name": "stdout",
          "text": [
            "1\n",
            "2\n",
            "3\n",
            "4\n",
            "5\n",
            "6\n",
            "7\n",
            "8\n",
            "9\n",
            "10\n"
          ]
        }
      ]
    },
    {
      "cell_type": "markdown",
      "source": [
        "13. Write a Python program to find the sum of all even numbers between 1 and 50.\n",
        "\n"
      ],
      "metadata": {
        "id": "RaBAT0VAVYLn"
      }
    },
    {
      "cell_type": "code",
      "source": [
        "even_sum = 0\n",
        "for num in range(1, 51):\n",
        "    if num % 2 == 0:\n",
        "        even_sum += num\n",
        "print(\"Sum of even numbers from 1 to 50 is:\", even_sum)"
      ],
      "metadata": {
        "colab": {
          "base_uri": "https://localhost:8080/"
        },
        "id": "fAR7OQbCVbY1",
        "outputId": "c48ab988-0698-421d-dcc5-eb548879a70e"
      },
      "execution_count": 7,
      "outputs": [
        {
          "output_type": "stream",
          "name": "stdout",
          "text": [
            "Sum of even numbers from 1 to 50 is: 650\n"
          ]
        }
      ]
    },
    {
      "cell_type": "code",
      "source": [
        "even_sum = sum(range(2, 51, 2))\n",
        "print(\"Sum of even numbers from 1 to 50 is:\", even_sum)"
      ],
      "metadata": {
        "colab": {
          "base_uri": "https://localhost:8080/"
        },
        "id": "rDu_7MstWRsm",
        "outputId": "194cdfab-80ce-4c11-9b84-02375700bbeb"
      },
      "execution_count": 8,
      "outputs": [
        {
          "output_type": "stream",
          "name": "stdout",
          "text": [
            "Sum of even numbers from 1 to 50 is: 650\n"
          ]
        }
      ]
    },
    {
      "cell_type": "markdown",
      "source": [
        "14. Write a program to reverse a string using a while loop.\n"
      ],
      "metadata": {
        "id": "PhkMpZTvWUmh"
      }
    },
    {
      "cell_type": "code",
      "source": [
        "text = input(\"Enter a string: \")\n",
        "reversed_text = \"\"\n",
        "index = len(text) - 1\n",
        "while index >= 0:\n",
        "    reversed_text += text[index]\n",
        "    index -= 1\n",
        "print(\"Reversed string:\", reversed_text)\n"
      ],
      "metadata": {
        "colab": {
          "base_uri": "https://localhost:8080/"
        },
        "id": "f9OLTCQLWXOf",
        "outputId": "4253b816-05db-4172-aaa1-be42e6bc89f1"
      },
      "execution_count": 9,
      "outputs": [
        {
          "output_type": "stream",
          "name": "stdout",
          "text": [
            "Enter a string: Khushi\n",
            "Reversed string: ihsuhK\n"
          ]
        }
      ]
    },
    {
      "cell_type": "markdown",
      "source": [
        "15. Write a Python program to calculate the factorial of a number provided by the user using a while loop."
      ],
      "metadata": {
        "id": "srMPO_diWqTm"
      }
    },
    {
      "cell_type": "code",
      "source": [
        "num = int(input(\"Enter a non-negative integer: \"))\n",
        "\n",
        "if num < 0:\n",
        "    print(\"Factorial is not defined for negative numbers.\")\n",
        "else:\n",
        "    factorial = 1\n",
        "    i = 1\n",
        "    while i <= num:\n",
        "        factorial *= i\n",
        "        i += 1\n",
        "    print(f\"The factorial of {num} is: {factorial}\")\n"
      ],
      "metadata": {
        "colab": {
          "base_uri": "https://localhost:8080/"
        },
        "id": "JZTR_qzUWuh6",
        "outputId": "7c008d47-07d6-4c2b-bd70-bd66511b31b6"
      },
      "execution_count": 10,
      "outputs": [
        {
          "output_type": "stream",
          "name": "stdout",
          "text": [
            "Enter a non-negative integer: 25\n",
            "The factorial of 25 is: 15511210043330985984000000\n"
          ]
        }
      ]
    }
  ]
}